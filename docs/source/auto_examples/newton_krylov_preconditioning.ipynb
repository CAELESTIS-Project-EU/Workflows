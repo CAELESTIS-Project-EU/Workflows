{
  "cells": [
    {
      "cell_type": "markdown",
      "metadata": {},
      "source": [
        "\nTitle: Newton-Krylov Preconditioning Example\n\nThis example demonstrates how to use Newton-Krylov solvers with preconditioning.\n"
      ]
    },
    {
      "cell_type": "code",
      "execution_count": null,
      "metadata": {
        "collapsed": false
      },
      "outputs": [],
      "source": [
        "import numpy as np\nfrom scipy.optimize import root\nfrom scipy.sparse import spdiags, kron\nfrom scipy.sparse.linalg import spilu, LinearOperator\nfrom numpy import cosh, zeros_like, mgrid, zeros, eye\n\n# parameters\nnx, ny = 75, 75\nhx, hy = 1./(nx-1), 1./(ny-1)\n\nP_left, P_right = 0, 0\nP_top, P_bottom = 1, 0\n\ndef get_preconditioner():\n    \"\"\"Compute the preconditioner M\"\"\"\n    diags_x = zeros((3, nx))\n    diags_x[0,:] = 1/hx/hx\n    diags_x[1,:] = -2/hx/hx\n    diags_x[2,:] = 1/hx/hx\n    Lx = spdiags(diags_x, [-1,0,1], nx, nx)\n\n    diags_y = zeros((3, ny))\n    diags_y[0,:] = 1/hy/hy\n    diags_y[1,:] = -2/hy/hy\n    diags_y[2,:] = 1/hy/hy\n    Ly = spdiags(diags_y, [-1,0,1], ny, ny)\n\n    J1 = kron(Lx, eye(ny)) + kron(eye(nx), Ly)\n\n    # Now we have the matrix `J_1`. We need to find its inverse `M` --\n    # however, since an approximate inverse is enough, we can use\n    # the *incomplete LU* decomposition\n\n    J1_ilu = spilu(J1)\n\n    # This returns an object with a method .solve() that evaluates\n    # the corresponding matrix-vector product. We need to wrap it into\n    # a LinearOperator before it can be passed to the Krylov methods:\n\n    M = LinearOperator(shape=(nx*ny, nx*ny), matvec=J1_ilu.solve)\n    return M\n\ndef solve(preconditioning=True):\n    \"\"\"Compute the solution\"\"\"\n    count = [0]\n\n    def residual(P):\n        count[0] += 1\n\n        d2x = zeros_like(P)\n        d2y = zeros_like(P)\n\n        d2x[1:-1] = (P[2:]   - 2*P[1:-1] + P[:-2])/hx/hx\n        d2x[0]    = (P[1]    - 2*P[0]    + P_left)/hx/hx\n        d2x[-1]   = (P_right - 2*P[-1]   + P[-2])/hx/hx\n\n        d2y[:,1:-1] = (P[:,2:] - 2*P[:,1:-1] + P[:,:-2])/hy/hy\n        d2y[:,0]    = (P[:,1]  - 2*P[:,0]    + P_bottom)/hy/hy\n        d2y[:,-1]   = (P_top   - 2*P[:,-1]   + P[:,-2])/hy/hy\n\n        return d2x + d2y + 5*cosh(P).mean()**2\n\n    # preconditioner\n    if preconditioning:\n        M = get_preconditioner()\n    else:\n        M = None\n\n    # solve\n    guess = zeros((nx, ny), float)\n\n    sol = root(residual, guess, method='krylov',\n               options={'disp': True,\n                        'jac_options': {'inner_M': M}})\n    print('Residual', abs(residual(sol.x)).max())\n    print('Evaluations', count[0])\n\n    return sol.x\n\ndef main():\n    sol = solve(preconditioning=True)\n\n    # visualize\n    import matplotlib.pyplot as plt\n    x, y = mgrid[0:1:(nx*1j), 0:1:(ny*1j)]\n    plt.clf()\n    plt.pcolor(x, y, sol)\n    plt.clim(0, 1)\n    plt.colorbar()\n    plt.show()\n\n\nif __name__ == \"__main__\":\n    main()"
      ]
    }
  ],
  "metadata": {
    "kernelspec": {
      "display_name": "Python 3",
      "language": "python",
      "name": "python3"
    },
    "language_info": {
      "codemirror_mode": {
        "name": "ipython",
        "version": 3
      },
      "file_extension": ".py",
      "mimetype": "text/x-python",
      "name": "python",
      "nbconvert_exporter": "python",
      "pygments_lexer": "ipython3",
      "version": "3.10.12"
    }
  },
  "nbformat": 4,
  "nbformat_minor": 0
}